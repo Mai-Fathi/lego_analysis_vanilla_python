{
 "cells": [
  {
   "cell_type": "code",
   "execution_count": 5,
   "id": "4fbf8294-a901-461f-a815-990d8b942cd9",
   "metadata": {
    "tags": []
   },
   "outputs": [],
   "source": [
    "def splitCSVLine(line):\n",
    "    currentWord = \"\"\n",
    "    currentList = []\n",
    "    quotationOpen = False\n",
    "\n",
    "    for char in line:\n",
    "        if char == '\"':\n",
    "            quotationOpen = not(quotationOpen)\n",
    "\n",
    "\n",
    "        if char == \",\" and not quotationOpen:\n",
    "            currentList.append(currentWord)\n",
    "            currentWord = \"\"\n",
    "        else:\n",
    "            currentWord += char\n",
    "    return currentList\n",
    "\n",
    "\n",
    "path = '/Users/mai/Desktop/school_material/python/LEGO Data/sets.csv'\n",
    "with open(path, 'r') as file:\n",
    "    lines = file.readlines()\n",
    "legoset = []\n",
    "\n",
    "\n",
    "for line in lines:\n",
    "    strippedLine = line.strip()\n",
    "    row = splitCSVLine(strippedLine)\n",
    "    legoset.append(row)\n"
   ]
  },
  {
   "cell_type": "code",
   "execution_count": 6,
   "id": "ea590753-df7b-42d9-becf-0ffb5f517222",
   "metadata": {
    "tags": []
   },
   "outputs": [
    {
     "data": {
      "text/plain": [
       "384"
      ]
     },
     "execution_count": 6,
     "metadata": {},
     "output_type": "execute_result"
    }
   ],
   "source": [
    "# how many sets have been released during the year 2000\n",
    "header = legoset[0]\n",
    "data = legoset[1:]\n",
    "\n",
    "year_index = header.index('Year')\n",
    "set_count_2000 = 0\n",
    "\n",
    "for row in data:\n",
    "        if int(row[year_index]) == 2000:\n",
    "           # print(row)\n",
    "            set_count_2000+= 1\n",
    "\n",
    "set_count_2000"
   ]
  },
  {
   "cell_type": "code",
   "execution_count": 9,
   "id": "65facd20-a391-4b1c-90a9-36e1de30d6f8",
   "metadata": {
    "tags": []
   },
   "outputs": [
    {
     "name": "stdout",
     "output_type": "stream",
     "text": [
      "City theme has more sets than Star Wars theme. \n"
     ]
    },
    {
     "data": {
      "text/plain": [
       "770"
      ]
     },
     "execution_count": 9,
     "metadata": {},
     "output_type": "execute_result"
    }
   ],
   "source": [
    "# Which theme has more sets - City or Star Wars?\n",
    "city_count = 0\n",
    "starwars_count = 0\n",
    "theme = header.index('Theme') \n",
    "for row in data:\n",
    "    if row[theme] == 'City':\n",
    "        city_count += 1\n",
    "    elif row[theme] == 'Star Wars':\n",
    "        starwars_count += 1\n",
    "if city_count > starwars_count:\n",
    "    print(\"City theme has more sets than Star Wars theme. \")\n",
    "else :\n",
    "    print(\"Starwars theme has more sets than City theme.\")\n",
    "\n"
   ]
  },
  {
   "cell_type": "code",
   "execution_count": 13,
   "id": "c24db716-0398-4b83-9201-ad1b9e456d7a",
   "metadata": {
    "tags": []
   },
   "outputs": [
    {
     "name": "stdout",
     "output_type": "stream",
     "text": [
      " the average of pieaces 238.15334197088637\n"
     ]
    }
   ],
   "source": [
    "# What is the average (mean) amount of pieces in a set (excluding sets without pieces)?\n",
    "quantity= 0\n",
    "count=0\n",
    "index_pieces= legoset[0].index('Pieces')\n",
    "for row in legoset[1:]:\n",
    "    val = row[index_pieces]\n",
    "    if val != ''  and val != '0.0':\n",
    "        quantity += float(val)\n",
    "        count +=1\n",
    "\n",
    "print (f\" the average of pieaces {quantity / count}\")"
   ]
  },
  {
   "cell_type": "code",
   "execution_count": 161,
   "id": "7d66eeae-66bf-49ca-8e1b-d7c8d7061e3c",
   "metadata": {
    "tags": []
   },
   "outputs": [
    {
     "name": "stdout",
     "output_type": "stream",
     "text": [
      "Top 10 Themes Containing the most sets are: \n",
      " The Theme Duplo which has 1278 sets.\n",
      " The Theme Gear which has 1232 sets.\n",
      " The Theme Collectable Minifigures which has 804 sets.\n",
      " The Theme City which has 770 sets.\n",
      " The Theme Star Wars which has 723 sets.\n",
      " The Theme Town which has 648 sets.\n",
      " The Theme Creator which has 528 sets.\n",
      " The Theme Technic which has 481 sets.\n",
      " The Theme Friends which has 429 sets.\n",
      " The Theme Basic which has 402 sets.\n"
     ]
    }
   ],
   "source": [
    "# What are the top 10 themes containing the most sets?\n",
    "\n",
    "# getting a unique list of the themes \n",
    "theme_index = legoset[0].index('Theme')\n",
    "all_themes = [sublist[theme_index] for sublist in legoset]\n",
    "\n",
    "# setting all the themes count to 0 \n",
    "theme_counts = {theme: 0 for theme in set(all_themes)}\n",
    "# looping to count of sets for each unique theme \n",
    "for row in legoset[1:]:\n",
    "    theme_counts[row[theme_index]] += 1\n",
    "\n",
    "#ztheme_counts_list = list(theme_counts.items())\n",
    "\n",
    "# sorting to get the top 10\n",
    "def pickSecondElement(lst):\n",
    "    return lst[1]\n",
    "sorted_themes = sorted(theme_counts_list, key=pickSecondElement, reverse=True)\n",
    "top_10_themes_dict = dict(sorted_themes[0:10])\n",
    "\n",
    "# printing the results \n",
    "print(\"Top 10 Themes Containing the most sets are: \")\n",
    "for key,value in top_10_themes_dict.items():\n",
    "    print(f\" The Theme {key} which has {value} sets.\")\n"
   ]
  },
  {
   "cell_type": "code",
   "execution_count": null,
   "id": "b6dc809f-3d41-4fe1-a57a-386156929763",
   "metadata": {
    "tags": []
   },
   "outputs": [],
   "source": []
  },
  {
   "cell_type": "code",
   "execution_count": 117,
   "id": "003f23c0-3dcc-4b0a-aa38-d9fc1878c934",
   "metadata": {
    "tags": []
   },
   "outputs": [
    {
     "data": {
      "text/plain": [
       "{'The LEGO Batman Movie': 33,\n",
       " 'Super Mario': 139,\n",
       " 'Boost': 1,\n",
       " 'Discovery': 6,\n",
       " 'Castle': 278,\n",
       " 'Pirates of the Caribbean': 15,\n",
       " 'Legends of Chima': 124,\n",
       " 'The LEGO Movie': 23,\n",
       " 'Powered Up': 4,\n",
       " 'Agents': 13,\n",
       " 'Miscellaneous': 85,\n",
       " 'Power Functions': 18,\n",
       " 'Creator': 528,\n",
       " 'Mixels': 81,\n",
       " 'Island Xtreme Stunts': 13,\n",
       " 'Star Wars': 723,\n",
       " 'Books': 142,\n",
       " 'The Lone Ranger': 8,\n",
       " 'Sports': 134,\n",
       " 'Speed Champions': 29,\n",
       " 'Aquazone': 28,\n",
       " 'Overwatch': 8,\n",
       " 'Alpha Team': 32,\n",
       " 'Trains': 136,\n",
       " 'Xtra': 11,\n",
       " 'DC Super Hero Girls': 11,\n",
       " 'Advanced models': 35,\n",
       " 'Collectable Minifigures': 804,\n",
       " 'Monkie Kid': 15,\n",
       " 'Dreamzzz': 12,\n",
       " 'Pirates': 82,\n",
       " 'Spybotics': 4,\n",
       " 'Gear': 1232,\n",
       " 'Universal Building Set': 13,\n",
       " 'Icons': 52,\n",
       " 'Exo-Force': 44,\n",
       " 'Explore': 128,\n",
       " 'PreSchool': 14,\n",
       " 'Bionicle': 381,\n",
       " 'Vikings': 7,\n",
       " 'Classic': 84,\n",
       " 'Znap': 19,\n",
       " 'Theme': 0,\n",
       " 'Space': 323,\n",
       " 'Dino Attack': 5,\n",
       " 'Quatro': 10,\n",
       " 'Belville': 82,\n",
       " 'Studios': 55,\n",
       " 'Harry Potter': 123,\n",
       " 'Technic': 481,\n",
       " 'Jack Stone': 25,\n",
       " 'Toy Story': 15,\n",
       " 'World Racers': 9,\n",
       " 'Rock Raiders': 16,\n",
       " 'Elves': 35,\n",
       " 'Basic': 402,\n",
       " 'Trolls World Tour': 9,\n",
       " 'HERO Factory': 104,\n",
       " 'The Simpsons': 2,\n",
       " 'Dino 2010': 6,\n",
       " 'Nexo Knights': 64,\n",
       " 'LEGO Games': 2,\n",
       " 'Dimensions': 68,\n",
       " 'The Hobbit': 18,\n",
       " 'Educational': 1,\n",
       " 'Education': 249,\n",
       " 'Scala': 73,\n",
       " 'Minions: The Rise of Gru': 4,\n",
       " 'Mickey Mouse': 5,\n",
       " 'Assorted': 11,\n",
       " 'Cars': 27,\n",
       " 'Ben 10: Alien Force': 6,\n",
       " 'Avatar The Last Airbender': 2,\n",
       " 'Hidden Side': 23,\n",
       " 'Unikitty': 23,\n",
       " 'Time Cruisers': 9,\n",
       " 'Baby': 44,\n",
       " 'Bricks and More': 68,\n",
       " 'Minitalia': 2,\n",
       " 'Aqua Raiders': 7,\n",
       " 'Ninjago': 342,\n",
       " 'Atlantis': 24,\n",
       " 'Marvel Super Heroes': 129,\n",
       " 'Creator Expert': 35,\n",
       " 'Minecraft': 100,\n",
       " \"Pharaoh's Quest\": 9,\n",
       " 'Duplo': 1278,\n",
       " 'Action Wheelers': 9,\n",
       " 'World City': 38,\n",
       " 'Town': 648,\n",
       " 'SpongeBob SquarePants': 14,\n",
       " 'Dacta': 162,\n",
       " 'Serious Play': 24,\n",
       " 'Dots': 81,\n",
       " \"Gabby's Dollhouse\": 4,\n",
       " '4 Juniors': 24,\n",
       " 'Boats': 12,\n",
       " 'Western': 20,\n",
       " 'Teenage Mutant Ninja Turtles': 16,\n",
       " 'Scooby-Doo': 6,\n",
       " 'Mindstorms': 68,\n",
       " 'The LEGO Ninjago Movie': 24,\n",
       " 'The Powerpuff Girls': 2,\n",
       " 'Vidiyo': 43,\n",
       " 'Clikits': 85,\n",
       " 'Ideas': 56,\n",
       " 'Brick Sketches': 8,\n",
       " 'Hobby Set': 9,\n",
       " 'Life of George': 2,\n",
       " 'Disney': 137,\n",
       " 'The LEGO Movie 2': 32,\n",
       " 'Samsonite': 3,\n",
       " 'Dinosaurs': 12,\n",
       " 'Dino': 7,\n",
       " 'DUPLO': 7,\n",
       " 'Fusion': 4,\n",
       " 'LEGO Universe': 2,\n",
       " 'Art': 15,\n",
       " 'Adventurers': 72,\n",
       " 'Factory': 7,\n",
       " 'Prince of Persia': 6,\n",
       " 'BrickHeadz': 142,\n",
       " 'Batman': 15,\n",
       " 'Freestyle': 75,\n",
       " 'Service Packs': 386,\n",
       " 'Stranger Things': 1,\n",
       " 'Homemaker': 13,\n",
       " 'Indiana Jones': 22,\n",
       " 'LEGOLAND': 63,\n",
       " 'Building Set with People': 24,\n",
       " 'Monster Fighters': 12,\n",
       " 'The Lord of the Rings': 14,\n",
       " 'Games': 44,\n",
       " 'Seasonal': 157,\n",
       " 'Primo': 57,\n",
       " 'Power Miners': 22,\n",
       " 'Racers': 248,\n",
       " 'Architecture': 59,\n",
       " 'FORMA': 4,\n",
       " 'Promotional': 295,\n",
       " 'Spider-Man': 11,\n",
       " 'Make and Create': 44,\n",
       " 'Bulk Bricks': 141,\n",
       " 'Jurassic World': 36,\n",
       " 'Avatar': 9,\n",
       " 'Galidor': 20,\n",
       " 'Collectable minifigures': 1,\n",
       " 'Master Builder Academy': 16,\n",
       " 'Ultra Agents': 14,\n",
       " 'City': 770,\n",
       " 'Friends': 429,\n",
       " 'Fabuland': 107,\n",
       " 'Sonic the Hedgehog': 5,\n",
       " 'Model Team': 16,\n",
       " 'DC Comics Super Heroes': 64,\n",
       " 'Juniors': 67}"
      ]
     },
     "execution_count": 117,
     "metadata": {},
     "output_type": "execute_result"
    }
   ],
   "source": [
    "theme_counts\n"
   ]
  },
  {
   "cell_type": "code",
   "execution_count": 2,
   "id": "5f5de08f-7061-402f-8796-1dd95a6e312b",
   "metadata": {
    "tags": []
   },
   "outputs": [
    {
     "data": {
      "text/html": [
       "<div>\n",
       "<style scoped>\n",
       "    .dataframe tbody tr th:only-of-type {\n",
       "        vertical-align: middle;\n",
       "    }\n",
       "\n",
       "    .dataframe tbody tr th {\n",
       "        vertical-align: top;\n",
       "    }\n",
       "\n",
       "    .dataframe thead th {\n",
       "        text-align: right;\n",
       "    }\n",
       "</style>\n",
       "<table border=\"1\" class=\"dataframe\">\n",
       "  <thead>\n",
       "    <tr style=\"text-align: right;\">\n",
       "      <th></th>\n",
       "      <th>Set_ID</th>\n",
       "      <th>Name</th>\n",
       "      <th>Year</th>\n",
       "      <th>Theme</th>\n",
       "      <th>Theme_Group</th>\n",
       "      <th>Subtheme</th>\n",
       "      <th>Category</th>\n",
       "      <th>Packaging</th>\n",
       "      <th>Num_Instructions</th>\n",
       "      <th>Availability</th>\n",
       "      <th>Pieces</th>\n",
       "      <th>Minifigures</th>\n",
       "      <th>Owned</th>\n",
       "      <th>Rating</th>\n",
       "      <th>USD_MSRP</th>\n",
       "      <th>Total_Quantity</th>\n",
       "      <th>Current_Price</th>\n",
       "    </tr>\n",
       "  </thead>\n",
       "  <tbody>\n",
       "    <tr>\n",
       "      <th>0</th>\n",
       "      <td>75-1</td>\n",
       "      <td>PreSchool Set</td>\n",
       "      <td>1975</td>\n",
       "      <td>PreSchool</td>\n",
       "      <td>Pre-school</td>\n",
       "      <td>NaN</td>\n",
       "      <td>Normal</td>\n",
       "      <td>{Not specified}</td>\n",
       "      <td>0</td>\n",
       "      <td>{Not specified}</td>\n",
       "      <td>16.0</td>\n",
       "      <td>NaN</td>\n",
       "      <td>10.0</td>\n",
       "      <td>0.0</td>\n",
       "      <td>NaN</td>\n",
       "      <td>NaN</td>\n",
       "      <td>NaN</td>\n",
       "    </tr>\n",
       "    <tr>\n",
       "      <th>1</th>\n",
       "      <td>77-1</td>\n",
       "      <td>PreSchool Set</td>\n",
       "      <td>1975</td>\n",
       "      <td>PreSchool</td>\n",
       "      <td>Pre-school</td>\n",
       "      <td>NaN</td>\n",
       "      <td>Normal</td>\n",
       "      <td>{Not specified}</td>\n",
       "      <td>0</td>\n",
       "      <td>{Not specified}</td>\n",
       "      <td>20.0</td>\n",
       "      <td>NaN</td>\n",
       "      <td>11.0</td>\n",
       "      <td>0.0</td>\n",
       "      <td>NaN</td>\n",
       "      <td>NaN</td>\n",
       "      <td>NaN</td>\n",
       "    </tr>\n",
       "    <tr>\n",
       "      <th>2</th>\n",
       "      <td>077-1</td>\n",
       "      <td>Pre-School Set</td>\n",
       "      <td>1975</td>\n",
       "      <td>Duplo</td>\n",
       "      <td>Pre-school</td>\n",
       "      <td>NaN</td>\n",
       "      <td>Normal</td>\n",
       "      <td>{Not specified}</td>\n",
       "      <td>0</td>\n",
       "      <td>{Not specified}</td>\n",
       "      <td>21.0</td>\n",
       "      <td>NaN</td>\n",
       "      <td>10.0</td>\n",
       "      <td>0.0</td>\n",
       "      <td>NaN</td>\n",
       "      <td>0.0</td>\n",
       "      <td>NaN</td>\n",
       "    </tr>\n",
       "    <tr>\n",
       "      <th>3</th>\n",
       "      <td>78-1</td>\n",
       "      <td>PreSchool Set</td>\n",
       "      <td>1975</td>\n",
       "      <td>PreSchool</td>\n",
       "      <td>Pre-school</td>\n",
       "      <td>NaN</td>\n",
       "      <td>Normal</td>\n",
       "      <td>{Not specified}</td>\n",
       "      <td>0</td>\n",
       "      <td>{Not specified}</td>\n",
       "      <td>32.0</td>\n",
       "      <td>NaN</td>\n",
       "      <td>8.0</td>\n",
       "      <td>0.0</td>\n",
       "      <td>NaN</td>\n",
       "      <td>NaN</td>\n",
       "      <td>NaN</td>\n",
       "    </tr>\n",
       "    <tr>\n",
       "      <th>4</th>\n",
       "      <td>78-3</td>\n",
       "      <td>Basic Set</td>\n",
       "      <td>1975</td>\n",
       "      <td>Samsonite</td>\n",
       "      <td>Vintage</td>\n",
       "      <td>Basic set</td>\n",
       "      <td>Normal</td>\n",
       "      <td>Box</td>\n",
       "      <td>0</td>\n",
       "      <td>{Not specified}</td>\n",
       "      <td>330.0</td>\n",
       "      <td>NaN</td>\n",
       "      <td>10.0</td>\n",
       "      <td>0.0</td>\n",
       "      <td>NaN</td>\n",
       "      <td>0.0</td>\n",
       "      <td>NaN</td>\n",
       "    </tr>\n",
       "  </tbody>\n",
       "</table>\n",
       "</div>"
      ],
      "text/plain": [
       "  Set_ID            Name  Year      Theme Theme_Group   Subtheme Category  \\\n",
       "0   75-1   PreSchool Set  1975  PreSchool  Pre-school        NaN   Normal   \n",
       "1   77-1   PreSchool Set  1975  PreSchool  Pre-school        NaN   Normal   \n",
       "2  077-1  Pre-School Set  1975      Duplo  Pre-school        NaN   Normal   \n",
       "3   78-1   PreSchool Set  1975  PreSchool  Pre-school        NaN   Normal   \n",
       "4   78-3       Basic Set  1975  Samsonite     Vintage  Basic set   Normal   \n",
       "\n",
       "         Packaging  Num_Instructions     Availability  Pieces  Minifigures  \\\n",
       "0  {Not specified}                 0  {Not specified}    16.0          NaN   \n",
       "1  {Not specified}                 0  {Not specified}    20.0          NaN   \n",
       "2  {Not specified}                 0  {Not specified}    21.0          NaN   \n",
       "3  {Not specified}                 0  {Not specified}    32.0          NaN   \n",
       "4              Box                 0  {Not specified}   330.0          NaN   \n",
       "\n",
       "   Owned  Rating  USD_MSRP  Total_Quantity  Current_Price  \n",
       "0   10.0     0.0       NaN             NaN            NaN  \n",
       "1   11.0     0.0       NaN             NaN            NaN  \n",
       "2   10.0     0.0       NaN             0.0            NaN  \n",
       "3    8.0     0.0       NaN             NaN            NaN  \n",
       "4   10.0     0.0       NaN             0.0            NaN  "
      ]
     },
     "execution_count": 2,
     "metadata": {},
     "output_type": "execute_result"
    }
   ],
   "source": [
    "import pandas as pd\n",
    "data = pd.read_csv('/Users/mai/Desktop/school_material/python/LEGO Data/sets.csv')\n",
    "df = pd.DataFrame(data)\n",
    "df.head()\n"
   ]
  },
  {
   "cell_type": "code",
   "execution_count": 139,
   "id": "55a016b9-2505-4978-94bb-23573e413a20",
   "metadata": {
    "tags": []
   },
   "outputs": [
    {
     "data": {
      "text/plain": [
       "384"
      ]
     },
     "execution_count": 139,
     "metadata": {},
     "output_type": "execute_result"
    }
   ],
   "source": [
    "Nsets_2000 = len(df[df['Year']== 2000])\n",
    "Nsets_2000"
   ]
  },
  {
   "cell_type": "code",
   "execution_count": 4,
   "id": "eddd3d4f-2c49-4836-82af-989bd02061ab",
   "metadata": {},
   "outputs": [
    {
     "data": {
      "text/plain": [
       "384"
      ]
     },
     "execution_count": 4,
     "metadata": {},
     "output_type": "execute_result"
    }
   ],
   "source": [
    "df.loc[df['Year']== 2000]['Set_ID'].count()"
   ]
  },
  {
   "cell_type": "code",
   "execution_count": 160,
   "id": "6aad1b17-269f-49d9-9826-c7aab2c7f31a",
   "metadata": {
    "tags": []
   },
   "outputs": [
    {
     "name": "stdout",
     "output_type": "stream",
     "text": [
      "the theme city contains 770, and the theme starwars contains 723\n"
     ]
    }
   ],
   "source": [
    "city_sets = df.loc[df['Theme']== 'City']['Set_ID'].count()\n",
    "city_sets\n",
    "starwars_sets = df.loc[df['Theme']== 'Star Wars']['Set_ID'].count()\n",
    "print(f\"the theme city contains {city_sets}, and the theme starwars contains {starwars_sets}\")"
   ]
  },
  {
   "cell_type": "code",
   "execution_count": null,
   "id": "c0f0cfae-c59a-46b4-b54c-b4325cd20a86",
   "metadata": {},
   "outputs": [],
   "source": []
  },
  {
   "cell_type": "code",
   "execution_count": null,
   "id": "40ad52d4-5238-4d2a-9823-344a2ae14c1d",
   "metadata": {},
   "outputs": [],
   "source": []
  },
  {
   "cell_type": "code",
   "execution_count": null,
   "id": "7bf3978f-9ceb-4363-892e-dbdd9a89f24d",
   "metadata": {},
   "outputs": [],
   "source": []
  },
  {
   "cell_type": "code",
   "execution_count": null,
   "id": "937f8c72-cb80-4bae-b48e-d46ee96258e9",
   "metadata": {},
   "outputs": [],
   "source": []
  },
  {
   "cell_type": "code",
   "execution_count": null,
   "id": "e5374a99-f1f5-4e82-9dfb-fc3276f7d6af",
   "metadata": {},
   "outputs": [],
   "source": []
  },
  {
   "cell_type": "code",
   "execution_count": null,
   "id": "9c98a39f-6697-40fd-a34f-f48b86d94ef3",
   "metadata": {},
   "outputs": [],
   "source": []
  },
  {
   "cell_type": "code",
   "execution_count": null,
   "id": "43a5935f-42b6-4be0-8bb5-b26586640db3",
   "metadata": {},
   "outputs": [],
   "source": []
  },
  {
   "cell_type": "code",
   "execution_count": null,
   "id": "79e19d68-5b9a-474d-9bec-71d804bf2934",
   "metadata": {},
   "outputs": [],
   "source": []
  },
  {
   "cell_type": "code",
   "execution_count": null,
   "id": "eb1605c9-3b3b-45b3-bf4a-40de60d9a1af",
   "metadata": {},
   "outputs": [],
   "source": []
  },
  {
   "cell_type": "code",
   "execution_count": 153,
   "id": "9fd73d85-25c7-4e61-8213-2df2d3791ef2",
   "metadata": {
    "tags": []
   },
   "outputs": [],
   "source": [
    "import csv\n",
    "\n",
    "file_path = '/Users/mai/Desktop/school_material/python/LEGO Data/sets.csv'\n",
    "\n",
    "# Open the CSV file and create a CSV reader\n",
    "with open(file_path, 'r') as file:\n",
    "    legoset= csv.reader(file)"
   ]
  },
  {
   "cell_type": "code",
   "execution_count": 162,
   "id": "ae574ab6-a373-41b8-b0fa-3ade38cf77fd",
   "metadata": {
    "tags": []
   },
   "outputs": [
    {
     "name": "stdout",
     "output_type": "stream",
     "text": [
      "384\n"
     ]
    }
   ],
   "source": [
    "header = legoset[0]\n",
    "data = legoset[1:]\n",
    "\n",
    "year_index = header.index('Year')\n",
    "set_count_2000 = 0\n",
    "\n",
    "for row in data:\n",
    "    if row[year_index] == '2000':\n",
    "        set_count_2000 += 1\n",
    "\n",
    "print(set_count_2000)"
   ]
  },
  {
   "cell_type": "code",
   "execution_count": 156,
   "id": "80fc5d6b-ed17-4a16-a49b-28b7bee3bcf9",
   "metadata": {
    "tags": []
   },
   "outputs": [
    {
     "name": "stdout",
     "output_type": "stream",
     "text": [
      "384\n"
     ]
    }
   ],
   "source": [
    "import csv\n",
    "\n",
    "with open(file_path, 'r') as file:\n",
    "    csv_reader = csv.reader(file)\n",
    "\n",
    "legoset = list(csv_reader)\n",
    "\n",
    "header = legoset[0]\n",
    "data = legoset[1:]\n",
    "\n",
    "year_index = header.index('Year')\n",
    "set_count_2000 = 0\n",
    "\n",
    "for row in data:\n",
    "    if row[year_index] == '2000':\n",
    "        set_count_2000 += 1\n",
    "\n",
    "print(set_count_2000)"
   ]
  }
 ],
 "metadata": {
  "kernelspec": {
   "display_name": "Python 3 (ipykernel)",
   "language": "python",
   "name": "python3"
  },
  "language_info": {
   "codemirror_mode": {
    "name": "ipython",
    "version": 3
   },
   "file_extension": ".py",
   "mimetype": "text/x-python",
   "name": "python",
   "nbconvert_exporter": "python",
   "pygments_lexer": "ipython3",
   "version": "3.11.5"
  }
 },
 "nbformat": 4,
 "nbformat_minor": 5
}
